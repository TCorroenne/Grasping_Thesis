{
 "cells": [
  {
   "cell_type": "code",
   "id": "577f7cf0-ed1b-45df-a6fc-a2a37f25253c",
   "metadata": {},
   "outputs": [],
   "source": [
    "import numpy as np\n",
    "import torch\n",
    "import cv2\n",
    "# import custom files:\n",
    "import utility.image_processing as ip\n",
    "import utility.io_processing as iop\n",
    "import utility.visualization as visualization\n",
    "import utility.peggnet_model as peggnet\n",
    "import utility.saving as saving\n",
    "import utility.grasp_detection as grasp_detection\n",
    "print(\"Everything imported\")"
   ]
  },
  {
   "cell_type": "code",
   "id": "5f0ef9a2-0fdb-415c-9519-f091d10ec323",
   "metadata": {},
   "outputs": [],
   "source": [
    "state_dict = \"models/finetuned_epoch_05_iou_S_0.65_iou_A_0.97_statedict.pt\"\n",
    "rgb = \"test/pcd0100r.png\"\n",
    "depth = \"test/pcd0100d.tiff\"\n",
    "output = \"\"\n",
    "use_rgb = True\n",
    "use_depth = True\n",
    "vis = True\n",
    "save = False\n",
    "output_dir = \"\""
   ]
  },
  {
   "cell_type": "code",
   "id": "3a4e4639-9985-4cb7-9641-961eef4d5bd1",
   "metadata": {},
   "outputs": [],
   "source": [
    "input_channels = 3*use_rgb + use_depth\n",
    "print('Input channels: {}'.format(input_channels))\n",
    "# Load the images\n",
    "rgb = cv2.imread(rgb, cv2.IMREAD_UNCHANGED)\n",
    "depth = cv2.imread(depth, cv2.IMREAD_UNCHANGED)\n",
    "assert rgb is not None, 'RGB image not loaded'\n",
    "assert depth is not None, 'Depth image not loaded'\n",
    "print('Images loaded')\n",
    "rgb, depth, mask = ip.process_rgbd_inpaint(rgb, depth)\n",
    "print('Images processed')\n",
    "# Prepare the input\n",
    "input_img = iop.rgbd_input_processing(\n",
    "    rgb, depth,\n",
    "    use_depth=use_depth, use_rgb=use_rgb\n",
    ")\n",
    "print('Input prepared')\n",
    "# Load the model\n",
    "device = torch.device('cuda' if torch.cuda.is_available() else 'cpu')\n",
    "print('Using device: {}'.format(device))\n",
    "input_img = input_img.to(device)\n",
    "print('Loading model from state dict {}'.format(state_dict))\n",
    "net = peggnet.PEGG_NET(input_channels=input_channels)\n",
    "# try:\n",
    "net.load_state_dict(\n",
    "    torch.load(state_dict, weights_only=True, map_location=device)\n",
    ")\n",
    "# except:\n",
    "#     net.load_state_dict(torch.load(args.state_dict, map_location=device))\n",
    "assert net is not None, 'Model not loaded'\n",
    "net.to(device)\n",
    "print('Model loaded')"
   ]
  },
  {
   "cell_type": "code",
   "execution_count": null,
   "id": "04bb5f68-6e57-49bf-b1bd-8f70da4cdb18",
   "metadata": {},
   "outputs": [],
   "source": [
    "# Run the model\n",
    "net.eval()\n",
    "with torch.no_grad():\n",
    "    pos_output, cos_output, sin_output, width_output = net(input_img)\n",
    "    q_img, ang_img, width_img = iop.process_raw_output(\n",
    "        pos_output, cos_output, sin_output, width_output\n",
    "    )\n",
    "    if vis:\n",
    "        visualization.plot_output_full(\n",
    "            rgb, depth, q_img, ang_img, width_img, \n",
    "        )\n",
    "    if save:\n",
    "        assert output_dir is not None, 'Output save directory not specified'\n",
    "        saving.save_results(\n",
    "            rgb, q_img, ang_img, depth_img=depth,\n",
    "            no_grasps=5, grasp_width_img=width_img, save_dir=output_dir\n",
    "        )"
   ]
  },
  {
   "cell_type": "code",
   "execution_count": null,
   "id": "ccdc493b-420b-49a1-8624-ef330a9180b3",
   "metadata": {},
   "outputs": [],
   "source": []
  }
 ],
 "metadata": {
  "kernelspec": {
   "display_name": "peggnet",
   "language": "python",
   "name": "peggnet"
  },
  "language_info": {
   "codemirror_mode": {
    "name": "ipython",
    "version": 3
   },
   "file_extension": ".py",
   "mimetype": "text/x-python",
   "name": "python",
   "nbconvert_exporter": "python",
   "pygments_lexer": "ipython3",
   "version": "3.10.16"
  }
 },
 "nbformat": 4,
 "nbformat_minor": 5
}
